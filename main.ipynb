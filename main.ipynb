{
 "cells": [
  {
   "cell_type": "markdown",
   "id": "886b84ee-bc3a-48fa-bcb8-f7ac2b38eb74",
   "metadata": {},
   "source": [
    "# Credit Account Default Status and Characteristics"
   ]
  },
  {
   "cell_type": "markdown",
   "id": "faa43ef1-2203-40c2-98df-d01a4765e3ae",
   "metadata": {},
   "source": [
    "Data source: https://www.kaggle.com/datasets/mishra5001/credit-card?datasetId=263888&select=columns_description.csv"
   ]
  },
  {
   "cell_type": "markdown",
   "id": "d02dd418-26c3-4f89-bff8-acafacda4d42",
   "metadata": {},
   "source": [
    "Credit history matters a lot when individuals want to take out loans ... say more about this later"
   ]
  },
  {
   "cell_type": "code",
   "execution_count": 1,
   "id": "38e2488d-9eb2-47ab-af34-1aa349f06ae4",
   "metadata": {},
   "outputs": [],
   "source": [
    "from pathlib import Path"
   ]
  },
  {
   "cell_type": "code",
   "execution_count": 2,
   "id": "0155129b-5bed-438c-85ae-a8351f6a0c25",
   "metadata": {},
   "outputs": [],
   "source": [
    "import numpy as np\n",
    "import pandas as pd\n",
    "import matplotlib.pyplot as plt\n",
    "import seaborn as sns\n",
    "import warnings\n",
    "\n",
    "\n",
    "import hw7_tools.plot_tools as pt\n",
    "\n",
    "warnings.filterwarnings(\"ignore\")"
   ]
  },
  {
   "cell_type": "code",
   "execution_count": 3,
   "id": "b48efd42-7833-4bbf-be48-a6959e7824b8",
   "metadata": {},
   "outputs": [],
   "source": [
    "original_df = pd.read_csv('data/application_data.csv')"
   ]
  },
  {
   "cell_type": "code",
   "execution_count": 4,
   "id": "d18dcb1c-edbd-4caf-83db-8f423ccc6177",
   "metadata": {},
   "outputs": [
    {
     "data": {
      "text/html": [
       "<div>\n",
       "<style scoped>\n",
       "    .dataframe tbody tr th:only-of-type {\n",
       "        vertical-align: middle;\n",
       "    }\n",
       "\n",
       "    .dataframe tbody tr th {\n",
       "        vertical-align: top;\n",
       "    }\n",
       "\n",
       "    .dataframe thead th {\n",
       "        text-align: right;\n",
       "    }\n",
       "</style>\n",
       "<table border=\"1\" class=\"dataframe\">\n",
       "  <thead>\n",
       "    <tr style=\"text-align: right;\">\n",
       "      <th></th>\n",
       "      <th>SK_ID_CURR</th>\n",
       "      <th>TARGET</th>\n",
       "      <th>NAME_CONTRACT_TYPE</th>\n",
       "      <th>CODE_GENDER</th>\n",
       "      <th>FLAG_OWN_CAR</th>\n",
       "      <th>FLAG_OWN_REALTY</th>\n",
       "      <th>CNT_CHILDREN</th>\n",
       "      <th>AMT_INCOME_TOTAL</th>\n",
       "      <th>AMT_CREDIT</th>\n",
       "      <th>AMT_ANNUITY</th>\n",
       "      <th>...</th>\n",
       "      <th>FLAG_DOCUMENT_18</th>\n",
       "      <th>FLAG_DOCUMENT_19</th>\n",
       "      <th>FLAG_DOCUMENT_20</th>\n",
       "      <th>FLAG_DOCUMENT_21</th>\n",
       "      <th>AMT_REQ_CREDIT_BUREAU_HOUR</th>\n",
       "      <th>AMT_REQ_CREDIT_BUREAU_DAY</th>\n",
       "      <th>AMT_REQ_CREDIT_BUREAU_WEEK</th>\n",
       "      <th>AMT_REQ_CREDIT_BUREAU_MON</th>\n",
       "      <th>AMT_REQ_CREDIT_BUREAU_QRT</th>\n",
       "      <th>AMT_REQ_CREDIT_BUREAU_YEAR</th>\n",
       "    </tr>\n",
       "  </thead>\n",
       "  <tbody>\n",
       "    <tr>\n",
       "      <th>0</th>\n",
       "      <td>100002</td>\n",
       "      <td>1</td>\n",
       "      <td>Cash loans</td>\n",
       "      <td>M</td>\n",
       "      <td>N</td>\n",
       "      <td>Y</td>\n",
       "      <td>0</td>\n",
       "      <td>202500.0</td>\n",
       "      <td>406597.5</td>\n",
       "      <td>24700.5</td>\n",
       "      <td>...</td>\n",
       "      <td>0</td>\n",
       "      <td>0</td>\n",
       "      <td>0</td>\n",
       "      <td>0</td>\n",
       "      <td>0.0</td>\n",
       "      <td>0.0</td>\n",
       "      <td>0.0</td>\n",
       "      <td>0.0</td>\n",
       "      <td>0.0</td>\n",
       "      <td>1.0</td>\n",
       "    </tr>\n",
       "    <tr>\n",
       "      <th>1</th>\n",
       "      <td>100003</td>\n",
       "      <td>0</td>\n",
       "      <td>Cash loans</td>\n",
       "      <td>F</td>\n",
       "      <td>N</td>\n",
       "      <td>N</td>\n",
       "      <td>0</td>\n",
       "      <td>270000.0</td>\n",
       "      <td>1293502.5</td>\n",
       "      <td>35698.5</td>\n",
       "      <td>...</td>\n",
       "      <td>0</td>\n",
       "      <td>0</td>\n",
       "      <td>0</td>\n",
       "      <td>0</td>\n",
       "      <td>0.0</td>\n",
       "      <td>0.0</td>\n",
       "      <td>0.0</td>\n",
       "      <td>0.0</td>\n",
       "      <td>0.0</td>\n",
       "      <td>0.0</td>\n",
       "    </tr>\n",
       "    <tr>\n",
       "      <th>2</th>\n",
       "      <td>100004</td>\n",
       "      <td>0</td>\n",
       "      <td>Revolving loans</td>\n",
       "      <td>M</td>\n",
       "      <td>Y</td>\n",
       "      <td>Y</td>\n",
       "      <td>0</td>\n",
       "      <td>67500.0</td>\n",
       "      <td>135000.0</td>\n",
       "      <td>6750.0</td>\n",
       "      <td>...</td>\n",
       "      <td>0</td>\n",
       "      <td>0</td>\n",
       "      <td>0</td>\n",
       "      <td>0</td>\n",
       "      <td>0.0</td>\n",
       "      <td>0.0</td>\n",
       "      <td>0.0</td>\n",
       "      <td>0.0</td>\n",
       "      <td>0.0</td>\n",
       "      <td>0.0</td>\n",
       "    </tr>\n",
       "    <tr>\n",
       "      <th>3</th>\n",
       "      <td>100006</td>\n",
       "      <td>0</td>\n",
       "      <td>Cash loans</td>\n",
       "      <td>F</td>\n",
       "      <td>N</td>\n",
       "      <td>Y</td>\n",
       "      <td>0</td>\n",
       "      <td>135000.0</td>\n",
       "      <td>312682.5</td>\n",
       "      <td>29686.5</td>\n",
       "      <td>...</td>\n",
       "      <td>0</td>\n",
       "      <td>0</td>\n",
       "      <td>0</td>\n",
       "      <td>0</td>\n",
       "      <td>NaN</td>\n",
       "      <td>NaN</td>\n",
       "      <td>NaN</td>\n",
       "      <td>NaN</td>\n",
       "      <td>NaN</td>\n",
       "      <td>NaN</td>\n",
       "    </tr>\n",
       "    <tr>\n",
       "      <th>4</th>\n",
       "      <td>100007</td>\n",
       "      <td>0</td>\n",
       "      <td>Cash loans</td>\n",
       "      <td>M</td>\n",
       "      <td>N</td>\n",
       "      <td>Y</td>\n",
       "      <td>0</td>\n",
       "      <td>121500.0</td>\n",
       "      <td>513000.0</td>\n",
       "      <td>21865.5</td>\n",
       "      <td>...</td>\n",
       "      <td>0</td>\n",
       "      <td>0</td>\n",
       "      <td>0</td>\n",
       "      <td>0</td>\n",
       "      <td>0.0</td>\n",
       "      <td>0.0</td>\n",
       "      <td>0.0</td>\n",
       "      <td>0.0</td>\n",
       "      <td>0.0</td>\n",
       "      <td>0.0</td>\n",
       "    </tr>\n",
       "  </tbody>\n",
       "</table>\n",
       "<p>5 rows × 122 columns</p>\n",
       "</div>"
      ],
      "text/plain": [
       "   SK_ID_CURR  TARGET NAME_CONTRACT_TYPE CODE_GENDER FLAG_OWN_CAR  \\\n",
       "0      100002       1         Cash loans           M            N   \n",
       "1      100003       0         Cash loans           F            N   \n",
       "2      100004       0    Revolving loans           M            Y   \n",
       "3      100006       0         Cash loans           F            N   \n",
       "4      100007       0         Cash loans           M            N   \n",
       "\n",
       "  FLAG_OWN_REALTY  CNT_CHILDREN  AMT_INCOME_TOTAL  AMT_CREDIT  AMT_ANNUITY  \\\n",
       "0               Y             0          202500.0    406597.5      24700.5   \n",
       "1               N             0          270000.0   1293502.5      35698.5   \n",
       "2               Y             0           67500.0    135000.0       6750.0   \n",
       "3               Y             0          135000.0    312682.5      29686.5   \n",
       "4               Y             0          121500.0    513000.0      21865.5   \n",
       "\n",
       "   ...  FLAG_DOCUMENT_18 FLAG_DOCUMENT_19 FLAG_DOCUMENT_20 FLAG_DOCUMENT_21  \\\n",
       "0  ...                 0                0                0                0   \n",
       "1  ...                 0                0                0                0   \n",
       "2  ...                 0                0                0                0   \n",
       "3  ...                 0                0                0                0   \n",
       "4  ...                 0                0                0                0   \n",
       "\n",
       "  AMT_REQ_CREDIT_BUREAU_HOUR AMT_REQ_CREDIT_BUREAU_DAY  \\\n",
       "0                        0.0                       0.0   \n",
       "1                        0.0                       0.0   \n",
       "2                        0.0                       0.0   \n",
       "3                        NaN                       NaN   \n",
       "4                        0.0                       0.0   \n",
       "\n",
       "   AMT_REQ_CREDIT_BUREAU_WEEK  AMT_REQ_CREDIT_BUREAU_MON  \\\n",
       "0                         0.0                        0.0   \n",
       "1                         0.0                        0.0   \n",
       "2                         0.0                        0.0   \n",
       "3                         NaN                        NaN   \n",
       "4                         0.0                        0.0   \n",
       "\n",
       "   AMT_REQ_CREDIT_BUREAU_QRT  AMT_REQ_CREDIT_BUREAU_YEAR  \n",
       "0                        0.0                         1.0  \n",
       "1                        0.0                         0.0  \n",
       "2                        0.0                         0.0  \n",
       "3                        NaN                         NaN  \n",
       "4                        0.0                         0.0  \n",
       "\n",
       "[5 rows x 122 columns]"
      ]
     },
     "execution_count": 4,
     "metadata": {},
     "output_type": "execute_result"
    }
   ],
   "source": [
    "original_df.head()"
   ]
  },
  {
   "cell_type": "markdown",
   "id": "d808ed66-9b1f-4204-9ee7-8e8e973e51c5",
   "metadata": {},
   "source": [
    "## Data Cleaning"
   ]
  },
  {
   "cell_type": "code",
   "execution_count": 5,
   "id": "f4d0240b-c652-4031-a241-8dcf0881c643",
   "metadata": {},
   "outputs": [
    {
     "data": {
      "text/plain": [
       "Index(['COMMONAREA_MEDI', 'COMMONAREA_AVG', 'COMMONAREA_MODE',\n",
       "       'NONLIVINGAPARTMENTS_MODE', 'NONLIVINGAPARTMENTS_AVG',\n",
       "       'NONLIVINGAPARTMENTS_MEDI', 'FONDKAPREMONT_MODE',\n",
       "       'LIVINGAPARTMENTS_MODE', 'LIVINGAPARTMENTS_AVG',\n",
       "       'LIVINGAPARTMENTS_MEDI', 'FLOORSMIN_AVG', 'FLOORSMIN_MODE',\n",
       "       'FLOORSMIN_MEDI', 'YEARS_BUILD_MEDI', 'YEARS_BUILD_MODE',\n",
       "       'YEARS_BUILD_AVG', 'OWN_CAR_AGE', 'LANDAREA_MEDI', 'LANDAREA_MODE',\n",
       "       'LANDAREA_AVG', 'BASEMENTAREA_MEDI', 'BASEMENTAREA_AVG',\n",
       "       'BASEMENTAREA_MODE', 'EXT_SOURCE_1', 'NONLIVINGAREA_MODE',\n",
       "       'NONLIVINGAREA_AVG', 'NONLIVINGAREA_MEDI', 'ELEVATORS_MEDI',\n",
       "       'ELEVATORS_AVG', 'ELEVATORS_MODE', 'WALLSMATERIAL_MODE',\n",
       "       'APARTMENTS_MEDI', 'APARTMENTS_AVG', 'APARTMENTS_MODE',\n",
       "       'ENTRANCES_MEDI', 'ENTRANCES_AVG', 'ENTRANCES_MODE', 'LIVINGAREA_AVG',\n",
       "       'LIVINGAREA_MODE', 'LIVINGAREA_MEDI', 'HOUSETYPE_MODE'],\n",
       "      dtype='object')"
      ]
     },
     "execution_count": 5,
     "metadata": {},
     "output_type": "execute_result"
    }
   ],
   "source": [
    "sorted_null = original_df.isnull().mean().sort_values(ascending=False)\n",
    "sorted_null.index[(sorted_null>0.5)]"
   ]
  },
  {
   "cell_type": "markdown",
   "id": "0f8ecf07-8d3f-4440-a070-da0fe2c28a1b",
   "metadata": {},
   "source": [
    "We observe that all the above columns contain more than X%(50% in our case) of nulls values, and here we make one of our major assumptions in this EDA that these data are simply unknown and can introduce bias which can affect our analysis(as opposed to them being actually informative and showing something in our data). Future work might involve taking a deeper look into these columns, but for now, with this assumption in mind, we will drop these columns together with some additional columns like ID number, which we expect to be not useful in our analysis:"
   ]
  },
  {
   "cell_type": "code",
   "execution_count": 6,
   "id": "3ac6bce9-2b49-45c9-91e4-2c168a800fb2",
   "metadata": {},
   "outputs": [],
   "source": [
    "# drop columns with more then 50% missing values + additional ones decided by the group\n",
    "drop_col = ['SK_ID_CURR',]\n",
    "df = original_df[sorted_null.index[(sorted_null<0.5)]].drop(drop_col, axis=1)\n",
    "#sorted_col_order = list(df.columns)\n",
    "#sorted_col_order.sort()\n",
    "#sorted_col_order\n",
    "#df = df[sorted_col_order]\n",
    "# df.columns"
   ]
  },
  {
   "cell_type": "markdown",
   "id": "cac82fcd-4419-4a92-90a8-51dc036eeff4",
   "metadata": {},
   "source": [
    "## EDA"
   ]
  },
  {
   "cell_type": "markdown",
   "id": "fbe9c82f-84d6-4558-8176-1424f3c7804a",
   "metadata": {},
   "source": [
    "In the following parts of our analysis, we will identify some interesting findings in our data and attempt to build a logistic regression model to predict whether a customer will default or not. But for now, let us explore the different variables in our datasets.\n",
    "\n",
    "First, we look at the general picture of what is the proportion of people using credit cards who are able to pay on time vs those who failed to pay on time."
   ]
  },
  {
   "cell_type": "markdown",
   "id": "7fdbd7ec-5a84-4da5-b443-bb950b8655a2",
   "metadata": {},
   "source": [
    "### Target"
   ]
  },
  {
   "cell_type": "code",
   "execution_count": 7,
   "id": "33bb8d78-2e39-48d9-8c33-58df7f835b4e",
   "metadata": {},
   "outputs": [
    {
     "data": {
      "image/png": "[encoded data removed]",
      "text/plain": [
       "<Figure size 432x288 with 1 Axes>"
      ]
     },
     "metadata": {
      "needs_background": "light"
     },
     "output_type": "display_data"
    },
    {
     "name": "stdout",
     "output_type": "stream",
     "text": [
      "proportion of people who paid on time: 0.9192711805431351\n",
      "proportion of people who failed to pay on time: 0.08072881945686496\n"
     ]
    }
   ],
   "source": [
    "sns.barplot(x=\"TARGET\", y=\"TARGET\", data=df, estimator=lambda x: len(x) / len(df) * 100)\n",
    "plt.xlabel(\"Default\")\n",
    "plt.ylabel(\"% of customers\")\n",
    "plt.title(\"Distribution of TARGET Variable(0 for non-default, 1 for default)\")\n",
    "plt.show()\n",
    "print(\"proportion of people who paid on time:\", 1-df[\"TARGET\"].mean())\n",
    "print(\"proportion of people who failed to pay on time:\", df[\"TARGET\"].mean())"
   ]
  },
  {
   "cell_type": "markdown",
   "id": "7d3070c9-ce7b-46f5-89ed-cff5efd30b11",
   "metadata": {},
   "source": [
    "Notice that there the original data has a high class imbalance, so we might want to bear this fact in mind when considering the metrics to look at when evaluating classifiers later. "
   ]
  },
  {
   "cell_type": "markdown",
   "id": "36db14a0-3fb1-44cb-b44c-2cbc8947d440",
   "metadata": {},
   "source": [
    "## Ratio of Default vs Non-Default for different groups\n",
    "\n",
    "\n",
    "We will now examine the ratio of defaulters vs non-defaulters between some other categorical variables' groups "
   ]
  },
  {
   "cell_type": "markdown",
   "id": "5abed675-db1a-4628-8a02-569a81d0e3b8",
   "metadata": {},
   "source": [
    "### Loan Type"
   ]
  },
  {
   "cell_type": "code",
   "execution_count": 8,
   "id": "499c370e-bca2-4983-9f69-c789e13aac2d",
   "metadata": {},
   "outputs": [
    {
     "ename": "FileNotFoundError",
     "evalue": "[Errno 2] No such file or directory: '/home/jovyan/hw/hw07-hw07-group11/output/Loan.png'",
     "output_type": "error",
     "traceback": [
      "\u001b[0;31m---------------------------------------------------------------------------\u001b[0m",
      "\u001b[0;31mFileNotFoundError\u001b[0m                         Traceback (most recent call last)",
      "Input \u001b[0;32mIn [8]\u001b[0m, in \u001b[0;36m<module>\u001b[0;34m\u001b[0m\n\u001b[0;32m----> 1\u001b[0m \u001b[43mpt\u001b[49m\u001b[38;5;241;43m.\u001b[39;49m\u001b[43mplot_default_in_category_group\u001b[49m\u001b[43m(\u001b[49m\u001b[38;5;124;43m'\u001b[39;49m\u001b[38;5;124;43mNAME_CONTRACT_TYPE\u001b[39;49m\u001b[38;5;124;43m'\u001b[39;49m\u001b[43m,\u001b[49m\u001b[43m \u001b[49m\u001b[43mdf\u001b[49m\u001b[43m,\u001b[49m\u001b[43m \u001b[49m\u001b[38;5;124;43m'\u001b[39;49m\u001b[38;5;124;43mLoan\u001b[39;49m\u001b[38;5;124;43m'\u001b[39;49m\u001b[43m)\u001b[49m\n",
      "File \u001b[0;32m~/HW/hw07-hw07-group11/hw7_tools/plot_tools.py:34\u001b[0m, in \u001b[0;36mplot_default_in_category_group\u001b[0;34m(group_name, df, x_label)\u001b[0m\n\u001b[1;32m     32\u001b[0m f\u001b[38;5;241m.\u001b[39msuptitle(title)\n\u001b[1;32m     33\u001b[0m f\u001b[38;5;241m.\u001b[39mtight_layout()\n\u001b[0;32m---> 34\u001b[0m \u001b[43mplt\u001b[49m\u001b[38;5;241;43m.\u001b[39;49m\u001b[43msavefig\u001b[49m\u001b[43m(\u001b[49m\u001b[38;5;28;43mstr\u001b[39;49m\u001b[43m(\u001b[49m\u001b[43mOUTPUT\u001b[49m\u001b[43m)\u001b[49m\u001b[43m \u001b[49m\u001b[38;5;241;43m+\u001b[39;49m\u001b[43m \u001b[49m\u001b[38;5;124;43m\"\u001b[39;49m\u001b[38;5;124;43m/\u001b[39;49m\u001b[38;5;124;43m\"\u001b[39;49m\u001b[43m \u001b[49m\u001b[38;5;241;43m+\u001b[39;49m\u001b[43m \u001b[49m\u001b[43mx_label\u001b[49m\u001b[43m \u001b[49m\u001b[38;5;241;43m+\u001b[39;49m\u001b[43m \u001b[49m\u001b[38;5;124;43m\"\u001b[39;49m\u001b[38;5;124;43m.png\u001b[39;49m\u001b[38;5;124;43m\"\u001b[39;49m\u001b[43m)\u001b[49m\n",
      "File \u001b[0;32m/srv/conda/envs/notebook/lib/python3.9/site-packages/matplotlib/pyplot.py:958\u001b[0m, in \u001b[0;36msavefig\u001b[0;34m(*args, **kwargs)\u001b[0m\n\u001b[1;32m    955\u001b[0m \u001b[38;5;129m@_copy_docstring_and_deprecators\u001b[39m(Figure\u001b[38;5;241m.\u001b[39msavefig)\n\u001b[1;32m    956\u001b[0m \u001b[38;5;28;01mdef\u001b[39;00m \u001b[38;5;21msavefig\u001b[39m(\u001b[38;5;241m*\u001b[39margs, \u001b[38;5;241m*\u001b[39m\u001b[38;5;241m*\u001b[39mkwargs):\n\u001b[1;32m    957\u001b[0m     fig \u001b[38;5;241m=\u001b[39m gcf()\n\u001b[0;32m--> 958\u001b[0m     res \u001b[38;5;241m=\u001b[39m \u001b[43mfig\u001b[49m\u001b[38;5;241;43m.\u001b[39;49m\u001b[43msavefig\u001b[49m\u001b[43m(\u001b[49m\u001b[38;5;241;43m*\u001b[39;49m\u001b[43margs\u001b[49m\u001b[43m,\u001b[49m\u001b[43m \u001b[49m\u001b[38;5;241;43m*\u001b[39;49m\u001b[38;5;241;43m*\u001b[39;49m\u001b[43mkwargs\u001b[49m\u001b[43m)\u001b[49m\n\u001b[1;32m    959\u001b[0m     fig\u001b[38;5;241m.\u001b[39mcanvas\u001b[38;5;241m.\u001b[39mdraw_idle()   \u001b[38;5;66;03m# need this if 'transparent=True' to reset colors\u001b[39;00m\n\u001b[1;32m    960\u001b[0m     \u001b[38;5;28;01mreturn\u001b[39;00m res\n",
      "File \u001b[0;32m/srv/conda/envs/notebook/lib/python3.9/site-packages/matplotlib/figure.py:3019\u001b[0m, in \u001b[0;36mFigure.savefig\u001b[0;34m(self, fname, transparent, **kwargs)\u001b[0m\n\u001b[1;32m   3015\u001b[0m     \u001b[38;5;28;01mfor\u001b[39;00m ax \u001b[38;5;129;01min\u001b[39;00m \u001b[38;5;28mself\u001b[39m\u001b[38;5;241m.\u001b[39maxes:\n\u001b[1;32m   3016\u001b[0m         stack\u001b[38;5;241m.\u001b[39menter_context(\n\u001b[1;32m   3017\u001b[0m             ax\u001b[38;5;241m.\u001b[39mpatch\u001b[38;5;241m.\u001b[39m_cm_set(facecolor\u001b[38;5;241m=\u001b[39m\u001b[38;5;124m'\u001b[39m\u001b[38;5;124mnone\u001b[39m\u001b[38;5;124m'\u001b[39m, edgecolor\u001b[38;5;241m=\u001b[39m\u001b[38;5;124m'\u001b[39m\u001b[38;5;124mnone\u001b[39m\u001b[38;5;124m'\u001b[39m))\n\u001b[0;32m-> 3019\u001b[0m \u001b[38;5;28;43mself\u001b[39;49m\u001b[38;5;241;43m.\u001b[39;49m\u001b[43mcanvas\u001b[49m\u001b[38;5;241;43m.\u001b[39;49m\u001b[43mprint_figure\u001b[49m\u001b[43m(\u001b[49m\u001b[43mfname\u001b[49m\u001b[43m,\u001b[49m\u001b[43m \u001b[49m\u001b[38;5;241;43m*\u001b[39;49m\u001b[38;5;241;43m*\u001b[39;49m\u001b[43mkwargs\u001b[49m\u001b[43m)\u001b[49m\n",
      "File \u001b[0;32m/srv/conda/envs/notebook/lib/python3.9/site-packages/matplotlib/backend_bases.py:2319\u001b[0m, in \u001b[0;36mFigureCanvasBase.print_figure\u001b[0;34m(self, filename, dpi, facecolor, edgecolor, orientation, format, bbox_inches, pad_inches, bbox_extra_artists, backend, **kwargs)\u001b[0m\n\u001b[1;32m   2315\u001b[0m \u001b[38;5;28;01mtry\u001b[39;00m:\n\u001b[1;32m   2316\u001b[0m     \u001b[38;5;66;03m# _get_renderer may change the figure dpi (as vector formats\u001b[39;00m\n\u001b[1;32m   2317\u001b[0m     \u001b[38;5;66;03m# force the figure dpi to 72), so we need to set it again here.\u001b[39;00m\n\u001b[1;32m   2318\u001b[0m     \u001b[38;5;28;01mwith\u001b[39;00m cbook\u001b[38;5;241m.\u001b[39m_setattr_cm(\u001b[38;5;28mself\u001b[39m\u001b[38;5;241m.\u001b[39mfigure, dpi\u001b[38;5;241m=\u001b[39mdpi):\n\u001b[0;32m-> 2319\u001b[0m         result \u001b[38;5;241m=\u001b[39m \u001b[43mprint_method\u001b[49m\u001b[43m(\u001b[49m\n\u001b[1;32m   2320\u001b[0m \u001b[43m            \u001b[49m\u001b[43mfilename\u001b[49m\u001b[43m,\u001b[49m\n\u001b[1;32m   2321\u001b[0m \u001b[43m            \u001b[49m\u001b[43mfacecolor\u001b[49m\u001b[38;5;241;43m=\u001b[39;49m\u001b[43mfacecolor\u001b[49m\u001b[43m,\u001b[49m\n\u001b[1;32m   2322\u001b[0m \u001b[43m            \u001b[49m\u001b[43medgecolor\u001b[49m\u001b[38;5;241;43m=\u001b[39;49m\u001b[43medgecolor\u001b[49m\u001b[43m,\u001b[49m\n\u001b[1;32m   2323\u001b[0m \u001b[43m            \u001b[49m\u001b[43morientation\u001b[49m\u001b[38;5;241;43m=\u001b[39;49m\u001b[43morientation\u001b[49m\u001b[43m,\u001b[49m\n\u001b[1;32m   2324\u001b[0m \u001b[43m            \u001b[49m\u001b[43mbbox_inches_restore\u001b[49m\u001b[38;5;241;43m=\u001b[39;49m\u001b[43m_bbox_inches_restore\u001b[49m\u001b[43m,\u001b[49m\n\u001b[1;32m   2325\u001b[0m \u001b[43m            \u001b[49m\u001b[38;5;241;43m*\u001b[39;49m\u001b[38;5;241;43m*\u001b[39;49m\u001b[43mkwargs\u001b[49m\u001b[43m)\u001b[49m\n\u001b[1;32m   2326\u001b[0m \u001b[38;5;28;01mfinally\u001b[39;00m:\n\u001b[1;32m   2327\u001b[0m     \u001b[38;5;28;01mif\u001b[39;00m bbox_inches \u001b[38;5;129;01mand\u001b[39;00m restore_bbox:\n",
      "File \u001b[0;32m/srv/conda/envs/notebook/lib/python3.9/site-packages/matplotlib/backend_bases.py:1648\u001b[0m, in \u001b[0;36m_check_savefig_extra_args.<locals>.wrapper\u001b[0;34m(*args, **kwargs)\u001b[0m\n\u001b[1;32m   1640\u001b[0m     _api\u001b[38;5;241m.\u001b[39mwarn_deprecated(\n\u001b[1;32m   1641\u001b[0m         \u001b[38;5;124m'\u001b[39m\u001b[38;5;124m3.3\u001b[39m\u001b[38;5;124m'\u001b[39m, name\u001b[38;5;241m=\u001b[39mname, removal\u001b[38;5;241m=\u001b[39m\u001b[38;5;124m'\u001b[39m\u001b[38;5;124m3.6\u001b[39m\u001b[38;5;124m'\u001b[39m,\n\u001b[1;32m   1642\u001b[0m         message\u001b[38;5;241m=\u001b[39m\u001b[38;5;124m'\u001b[39m\u001b[38;5;132;01m%(name)s\u001b[39;00m\u001b[38;5;124m() got unexpected keyword argument \u001b[39m\u001b[38;5;124m\"\u001b[39m\u001b[38;5;124m'\u001b[39m\n\u001b[1;32m   1643\u001b[0m                 \u001b[38;5;241m+\u001b[39m arg \u001b[38;5;241m+\u001b[39m \u001b[38;5;124m'\u001b[39m\u001b[38;5;124m\"\u001b[39m\u001b[38;5;124m which is no longer supported as of \u001b[39m\u001b[38;5;124m'\u001b[39m\n\u001b[1;32m   1644\u001b[0m                 \u001b[38;5;124m'\u001b[39m\u001b[38;5;132;01m%(since)s\u001b[39;00m\u001b[38;5;124m and will become an error \u001b[39m\u001b[38;5;124m'\u001b[39m\n\u001b[1;32m   1645\u001b[0m                 \u001b[38;5;124m'\u001b[39m\u001b[38;5;132;01m%(removal)s\u001b[39;00m\u001b[38;5;124m'\u001b[39m)\n\u001b[1;32m   1646\u001b[0m     kwargs\u001b[38;5;241m.\u001b[39mpop(arg)\n\u001b[0;32m-> 1648\u001b[0m \u001b[38;5;28;01mreturn\u001b[39;00m \u001b[43mfunc\u001b[49m\u001b[43m(\u001b[49m\u001b[38;5;241;43m*\u001b[39;49m\u001b[43margs\u001b[49m\u001b[43m,\u001b[49m\u001b[43m \u001b[49m\u001b[38;5;241;43m*\u001b[39;49m\u001b[38;5;241;43m*\u001b[39;49m\u001b[43mkwargs\u001b[49m\u001b[43m)\u001b[49m\n",
      "File \u001b[0;32m/srv/conda/envs/notebook/lib/python3.9/site-packages/matplotlib/_api/deprecation.py:412\u001b[0m, in \u001b[0;36mdelete_parameter.<locals>.wrapper\u001b[0;34m(*inner_args, **inner_kwargs)\u001b[0m\n\u001b[1;32m    402\u001b[0m     deprecation_addendum \u001b[38;5;241m=\u001b[39m (\n\u001b[1;32m    403\u001b[0m         \u001b[38;5;124mf\u001b[39m\u001b[38;5;124m\"\u001b[39m\u001b[38;5;124mIf any parameter follows \u001b[39m\u001b[38;5;132;01m{\u001b[39;00mname\u001b[38;5;132;01m!r}\u001b[39;00m\u001b[38;5;124m, they should be passed as \u001b[39m\u001b[38;5;124m\"\u001b[39m\n\u001b[1;32m    404\u001b[0m         \u001b[38;5;124mf\u001b[39m\u001b[38;5;124m\"\u001b[39m\u001b[38;5;124mkeyword, not positionally.\u001b[39m\u001b[38;5;124m\"\u001b[39m)\n\u001b[1;32m    405\u001b[0m     warn_deprecated(\n\u001b[1;32m    406\u001b[0m         since,\n\u001b[1;32m    407\u001b[0m         name\u001b[38;5;241m=\u001b[39m\u001b[38;5;28mrepr\u001b[39m(name),\n\u001b[0;32m   (...)\u001b[0m\n\u001b[1;32m    410\u001b[0m                  \u001b[38;5;28;01melse\u001b[39;00m deprecation_addendum,\n\u001b[1;32m    411\u001b[0m         \u001b[38;5;241m*\u001b[39m\u001b[38;5;241m*\u001b[39mkwargs)\n\u001b[0;32m--> 412\u001b[0m \u001b[38;5;28;01mreturn\u001b[39;00m \u001b[43mfunc\u001b[49m\u001b[43m(\u001b[49m\u001b[38;5;241;43m*\u001b[39;49m\u001b[43minner_args\u001b[49m\u001b[43m,\u001b[49m\u001b[43m \u001b[49m\u001b[38;5;241;43m*\u001b[39;49m\u001b[38;5;241;43m*\u001b[39;49m\u001b[43minner_kwargs\u001b[49m\u001b[43m)\u001b[49m\n",
      "File \u001b[0;32m/srv/conda/envs/notebook/lib/python3.9/site-packages/matplotlib/backends/backend_agg.py:541\u001b[0m, in \u001b[0;36mFigureCanvasAgg.print_png\u001b[0;34m(self, filename_or_obj, metadata, pil_kwargs, *args)\u001b[0m\n\u001b[1;32m    494\u001b[0m \u001b[38;5;124;03m\"\"\"\u001b[39;00m\n\u001b[1;32m    495\u001b[0m \u001b[38;5;124;03mWrite the figure to a PNG file.\u001b[39;00m\n\u001b[1;32m    496\u001b[0m \n\u001b[0;32m   (...)\u001b[0m\n\u001b[1;32m    538\u001b[0m \u001b[38;5;124;03m    *metadata*, including the default 'Software' key.\u001b[39;00m\n\u001b[1;32m    539\u001b[0m \u001b[38;5;124;03m\"\"\"\u001b[39;00m\n\u001b[1;32m    540\u001b[0m FigureCanvasAgg\u001b[38;5;241m.\u001b[39mdraw(\u001b[38;5;28mself\u001b[39m)\n\u001b[0;32m--> 541\u001b[0m \u001b[43mmpl\u001b[49m\u001b[38;5;241;43m.\u001b[39;49m\u001b[43mimage\u001b[49m\u001b[38;5;241;43m.\u001b[39;49m\u001b[43mimsave\u001b[49m\u001b[43m(\u001b[49m\n\u001b[1;32m    542\u001b[0m \u001b[43m    \u001b[49m\u001b[43mfilename_or_obj\u001b[49m\u001b[43m,\u001b[49m\u001b[43m \u001b[49m\u001b[38;5;28;43mself\u001b[39;49m\u001b[38;5;241;43m.\u001b[39;49m\u001b[43mbuffer_rgba\u001b[49m\u001b[43m(\u001b[49m\u001b[43m)\u001b[49m\u001b[43m,\u001b[49m\u001b[43m \u001b[49m\u001b[38;5;28;43mformat\u001b[39;49m\u001b[38;5;241;43m=\u001b[39;49m\u001b[38;5;124;43m\"\u001b[39;49m\u001b[38;5;124;43mpng\u001b[39;49m\u001b[38;5;124;43m\"\u001b[39;49m\u001b[43m,\u001b[49m\u001b[43m \u001b[49m\u001b[43morigin\u001b[49m\u001b[38;5;241;43m=\u001b[39;49m\u001b[38;5;124;43m\"\u001b[39;49m\u001b[38;5;124;43mupper\u001b[39;49m\u001b[38;5;124;43m\"\u001b[39;49m\u001b[43m,\u001b[49m\n\u001b[1;32m    543\u001b[0m \u001b[43m    \u001b[49m\u001b[43mdpi\u001b[49m\u001b[38;5;241;43m=\u001b[39;49m\u001b[38;5;28;43mself\u001b[39;49m\u001b[38;5;241;43m.\u001b[39;49m\u001b[43mfigure\u001b[49m\u001b[38;5;241;43m.\u001b[39;49m\u001b[43mdpi\u001b[49m\u001b[43m,\u001b[49m\u001b[43m \u001b[49m\u001b[43mmetadata\u001b[49m\u001b[38;5;241;43m=\u001b[39;49m\u001b[43mmetadata\u001b[49m\u001b[43m,\u001b[49m\u001b[43m \u001b[49m\u001b[43mpil_kwargs\u001b[49m\u001b[38;5;241;43m=\u001b[39;49m\u001b[43mpil_kwargs\u001b[49m\u001b[43m)\u001b[49m\n",
      "File \u001b[0;32m/srv/conda/envs/notebook/lib/python3.9/site-packages/matplotlib/image.py:1675\u001b[0m, in \u001b[0;36mimsave\u001b[0;34m(fname, arr, vmin, vmax, cmap, format, origin, dpi, metadata, pil_kwargs)\u001b[0m\n\u001b[1;32m   1673\u001b[0m pil_kwargs\u001b[38;5;241m.\u001b[39msetdefault(\u001b[38;5;124m\"\u001b[39m\u001b[38;5;124mformat\u001b[39m\u001b[38;5;124m\"\u001b[39m, \u001b[38;5;28mformat\u001b[39m)\n\u001b[1;32m   1674\u001b[0m pil_kwargs\u001b[38;5;241m.\u001b[39msetdefault(\u001b[38;5;124m\"\u001b[39m\u001b[38;5;124mdpi\u001b[39m\u001b[38;5;124m\"\u001b[39m, (dpi, dpi))\n\u001b[0;32m-> 1675\u001b[0m \u001b[43mimage\u001b[49m\u001b[38;5;241;43m.\u001b[39;49m\u001b[43msave\u001b[49m\u001b[43m(\u001b[49m\u001b[43mfname\u001b[49m\u001b[43m,\u001b[49m\u001b[43m \u001b[49m\u001b[38;5;241;43m*\u001b[39;49m\u001b[38;5;241;43m*\u001b[39;49m\u001b[43mpil_kwargs\u001b[49m\u001b[43m)\u001b[49m\n",
      "File \u001b[0;32m/srv/conda/envs/notebook/lib/python3.9/site-packages/PIL/Image.py:2237\u001b[0m, in \u001b[0;36mImage.save\u001b[0;34m(self, fp, format, **params)\u001b[0m\n\u001b[1;32m   2235\u001b[0m         fp \u001b[38;5;241m=\u001b[39m builtins\u001b[38;5;241m.\u001b[39mopen(filename, \u001b[38;5;124m\"\u001b[39m\u001b[38;5;124mr+b\u001b[39m\u001b[38;5;124m\"\u001b[39m)\n\u001b[1;32m   2236\u001b[0m     \u001b[38;5;28;01melse\u001b[39;00m:\n\u001b[0;32m-> 2237\u001b[0m         fp \u001b[38;5;241m=\u001b[39m \u001b[43mbuiltins\u001b[49m\u001b[38;5;241;43m.\u001b[39;49m\u001b[43mopen\u001b[49m\u001b[43m(\u001b[49m\u001b[43mfilename\u001b[49m\u001b[43m,\u001b[49m\u001b[43m \u001b[49m\u001b[38;5;124;43m\"\u001b[39;49m\u001b[38;5;124;43mw+b\u001b[39;49m\u001b[38;5;124;43m\"\u001b[39;49m\u001b[43m)\u001b[49m\n\u001b[1;32m   2239\u001b[0m \u001b[38;5;28;01mtry\u001b[39;00m:\n\u001b[1;32m   2240\u001b[0m     save_handler(\u001b[38;5;28mself\u001b[39m, fp, filename)\n",
      "\u001b[0;31mFileNotFoundError\u001b[0m: [Errno 2] No such file or directory: '/home/jovyan/hw/hw07-hw07-group11/output/Loan.png'"
     ]
    },
    {
     "data": {
      "image/png": "[encoded data removed]",
      "text/plain": [
       "<Figure size 864x432 with 2 Axes>"
      ]
     },
     "metadata": {
      "needs_background": "light"
     },
     "output_type": "display_data"
    }
   ],
   "source": [
    "pt.plot_default_in_category_group('NAME_CONTRACT_TYPE', df, 'Loan')"
   ]
  },
  {
   "cell_type": "markdown",
   "id": "abde48c3-0008-42d0-a91b-25fae255063a",
   "metadata": {},
   "source": [
    "**Observations:** \n",
    "* People who take out cash loans have a slightly higher rate of defaulting compared to revolving loans"
   ]
  },
  {
   "cell_type": "markdown",
   "id": "f194bdbc-9b40-4606-9288-c4d430c3488d",
   "metadata": {},
   "source": [
    "### Gender"
   ]
  },
  {
   "cell_type": "code",
   "execution_count": null,
   "id": "dcd0ab03-f9b3-42c7-87af-29a815019e8c",
   "metadata": {},
   "outputs": [],
   "source": [
    "# omit the several XNA gender entries since we want to avoid assuming one's gender\n",
    "gender_df = df[df['CODE_GENDER']!= 'XNA']\n",
    "pt.plot_default_in_category_group('CODE_GENDER', gender_df, 'Gender')"
   ]
  },
  {
   "cell_type": "markdown",
   "id": "50b821f3-7063-404b-b4bc-3389c2928804",
   "metadata": {},
   "source": [
    "**Observations:** \n",
    "* Male's seem to have a slightly higher proportion of defaults compared to female"
   ]
  },
  {
   "cell_type": "markdown",
   "id": "f0321bd3-e526-4b59-90c8-2f60559fb821",
   "metadata": {},
   "source": [
    "### Income Type"
   ]
  },
  {
   "cell_type": "code",
   "execution_count": null,
   "id": "ef9aafa9-cd3a-4cff-937d-f22b0e24b19c",
   "metadata": {},
   "outputs": [],
   "source": [
    "pt.plot_default_in_category_group('NAME_INCOME_TYPE', df, 'Income Type')"
   ]
  },
  {
   "cell_type": "markdown",
   "id": "eebfbc8a-1b0d-41cc-9441-9ca421f38a84",
   "metadata": {},
   "source": [
    "**Observations:** \n",
    "* Unemployed and Maternity leave groups seem to have a much higher proportion of default, whereas state servents and pensioners tend to have a lower proportion of defaults among them."
   ]
  },
  {
   "cell_type": "markdown",
   "id": "ee5dcd2e-ae5e-4996-be26-5db2a2231ce1",
   "metadata": {},
   "source": [
    "### Education Type"
   ]
  },
  {
   "cell_type": "code",
   "execution_count": null,
   "id": "fc698490-2e80-4145-a74e-a66a7cbb9a14",
   "metadata": {},
   "outputs": [],
   "source": [
    "pt.plot_default_in_category_group('NAME_EDUCATION_TYPE', df, 'Education')"
   ]
  },
  {
   "cell_type": "markdown",
   "id": "9e7c9503-cbc1-4d69-b07c-a016ec63471a",
   "metadata": {},
   "source": [
    "**Observations:** \n",
    "* The academic degree and higher education group have a lower proportion of defaults compared to the other groups that are slightly lower in educational degree status"
   ]
  },
  {
   "cell_type": "markdown",
   "id": "320ced08-313d-4ec6-8822-e340f33602f6",
   "metadata": {},
   "source": [
    "### House Ownership"
   ]
  },
  {
   "cell_type": "code",
   "execution_count": null,
   "id": "9a0d688d-492f-444f-bdda-6655593e5b8e",
   "metadata": {},
   "outputs": [],
   "source": [
    "pt.plot_default_in_category_group('FLAG_OWN_REALTY', df, 'House Ownership')"
   ]
  },
  {
   "cell_type": "markdown",
   "id": "dd1cf2e5-d11e-42af-99b7-3ea55ef483cb",
   "metadata": {},
   "source": [
    "**Observations:** \n",
    "* Whether someone owns a house or not does not change significantly the rates of defaulting on a loan"
   ]
  },
  {
   "cell_type": "markdown",
   "id": "0a24da95-0c67-4efd-a608-c49ba3acdfb5",
   "metadata": {},
   "source": [
    "### House Type"
   ]
  },
  {
   "cell_type": "code",
   "execution_count": null,
   "id": "b52bbc0f-1569-42ed-a993-56da57986ee4",
   "metadata": {},
   "outputs": [],
   "source": [
    "pt.plot_default_in_category_group('NAME_HOUSING_TYPE', df, 'House Type')"
   ]
  },
  {
   "cell_type": "markdown",
   "id": "9c6b1089-4bcb-43ae-b709-4720de97b651",
   "metadata": {},
   "source": [
    "**Observations:** \n",
    "* Despite significant class imbalance where the vast majority of people have a home/apartment, the highest rates of defaulting in the house type category are those who live in a rented apartment. Higher default rates are also seen for those that live with their parents. "
   ]
  },
  {
   "cell_type": "markdown",
   "id": "4b8c8a7c-ffd1-42db-9bad-120ad7b8804f",
   "metadata": {},
   "source": [
    "### Number of Surrounding 30DPD Defaults"
   ]
  },
  {
   "cell_type": "code",
   "execution_count": null,
   "id": "7be6032d-18f2-43fd-8f13-04311726d2ae",
   "metadata": {},
   "outputs": [],
   "source": [
    "pt.plot_default_in_numerical_discrete_group('OBS_30_CNT_SOCIAL_CIRCLE', df, 'Number of Surrounding 30DPD Defaults')"
   ]
  },
  {
   "cell_type": "markdown",
   "id": "88b5d549-133b-4e51-bff4-73bf96dc09fb",
   "metadata": {},
   "source": [
    "### Number of Family Members"
   ]
  },
  {
   "cell_type": "code",
   "execution_count": null,
   "id": "9fd93d55-322c-479c-9129-31163139ceba",
   "metadata": {},
   "outputs": [],
   "source": [
    "pt.plot_default_in_numerical_discrete_group('CNT_FAM_MEMBERS', df, 'Number of Family Members')"
   ]
  },
  {
   "cell_type": "markdown",
   "id": "82b5b89c-b32c-493a-a6bd-9911c236e3aa",
   "metadata": {},
   "source": [
    "#### Data Takeaways"
   ]
  },
  {
   "cell_type": "markdown",
   "id": "2db55a50-e67f-48cd-bc1e-0e204c80ea88",
   "metadata": {},
   "source": [
    "The plots above give a clear picture about the type of people within the data. The majority of people are working, female, own a home, are living in a home/apartment, and have 0 surrounding 30DPD defaults. It can also be seen that the max education for the majority of people in the data is a secondary education, which in the USA, refers to completing high school. It is interesting to see just how many people in the data own an apartment or house as it is significantly higher than for example the number of people renting. With that said, the data population really is not representative of the overall population as a whole. "
   ]
  },
  {
   "cell_type": "markdown",
   "id": "648460c6-8fff-4893-9bde-45c1c6f3f38f",
   "metadata": {},
   "source": [
    "## Logistic Regression Model"
   ]
  },
  {
   "cell_type": "markdown",
   "id": "8b5ba1bf-033b-4d6e-b07f-a926a29b2bdc",
   "metadata": {},
   "source": [
    "The modeling section focuses on building a logistic regression model to try and predict whether someone will default on a loan or not given particular parameters from the data. As seens in the previous section, there is significant class imbalance where the vast majority of people in the data do not default on their loan. Thus metrics such as recall and precision are more important tools to determine the validity of our model compared to accuracy."
   ]
  },
  {
   "cell_type": "code",
   "execution_count": null,
   "id": "575487a2-e30b-492d-8531-51546421ec74",
   "metadata": {},
   "outputs": [],
   "source": [
    "import sklearn.linear_model as lm\n",
    "\n",
    "SelectedCol =['TARGET','NAME_CONTRACT_TYPE','CODE_GENDER','NAME_INCOME_TYPE','NAME_EDUCATION_TYPE',\n",
    "                   'FLAG_OWN_CAR','NAME_FAMILY_STATUS','OBS_30_CNT_SOCIAL_CIRCLE','CNT_FAM_MEMBERS',\n",
    "                  'FLAG_OWN_REALTY']\n",
    "Features = ['NAME_CONTRACT_TYPE','CODE_GENDER','NAME_INCOME_TYPE','NAME_EDUCATION_TYPE',\n",
    "                   'FLAG_OWN_CAR','NAME_FAMILY_STATUS','OBS_30_CNT_SOCIAL_CIRCLE','CNT_FAM_MEMBERS',\n",
    "                  'FLAG_OWN_REALTY']"
   ]
  },
  {
   "cell_type": "code",
   "execution_count": null,
   "id": "e0247488-1e15-40e2-ab26-b9789d45d472",
   "metadata": {},
   "outputs": [],
   "source": [
    "# preprocessing gender and flag_own_car \n",
    "categorical_cols = ['FLAG_OWN_CAR', 'CODE_GENDER', 'NAME_INCOME_TYPE', 'NAME_EDUCATION_TYPE','NAME_CONTRACT_TYPE', 'FLAG_OWN_REALTY','NAME_FAMILY_STATUS']\n",
    "processed = pd.get_dummies(df[SelectedCol], columns = categorical_cols)"
   ]
  },
  {
   "cell_type": "code",
   "execution_count": null,
   "id": "b271b4ea-7c28-4f16-821c-701fac418ff0",
   "metadata": {},
   "outputs": [],
   "source": [
    "from sklearn.model_selection import train_test_split\n",
    "train, test = train_test_split(processed, test_size=0.2,random_state = 1)\n",
    "train_1 = train[train['TARGET']==1].sample(10000, random_state = 1)\n",
    "train_0 = train[train['TARGET']==0].sample(10000, random_state = 1)\n",
    "balanced_train = pd.concat([train_1,train_0])\n",
    "balanced_train_x = balanced_train[balanced_train.columns[~balanced_train.columns.isin(['TARGET'])]]\n",
    "balanced_train_y = balanced_train['TARGET']\n",
    "test_x = test[test.columns[~test.columns.isin(['TARGET'])]]\n",
    "test_y = test['TARGET']"
   ]
  },
  {
   "cell_type": "code",
   "execution_count": null,
   "id": "9aa81cc4-c8f2-4c2a-97b3-fb2ffbcda4e7",
   "metadata": {},
   "outputs": [],
   "source": [
    "model = lm.LogisticRegression(penalty = 'none', fit_intercept = True, solver = 'lbfgs', random_state = 1)"
   ]
  },
  {
   "cell_type": "code",
   "execution_count": null,
   "id": "d1ed71f2-a2fa-4f90-aff8-97f6b570a6e1",
   "metadata": {},
   "outputs": [],
   "source": [
    "model.fit(balanced_train_x, balanced_train_y)"
   ]
  },
  {
   "cell_type": "code",
   "execution_count": null,
   "id": "7fb8849b-b2a9-464f-afcf-e786fa91e18f",
   "metadata": {},
   "outputs": [],
   "source": [
    "################\n",
    "model.predict_proba(balanced_train_x)"
   ]
  },
  {
   "cell_type": "code",
   "execution_count": null,
   "id": "8fe424cf-6fca-49f0-9e55-388293ae89a9",
   "metadata": {},
   "outputs": [],
   "source": [
    "# displaying which coefficients are with which columns\n",
    "\n",
    "coefficients = pd.DataFrame({'feature': balanced_train_x.columns, 'coeff': model.coef_[0]}, columns=['feature', 'coeff'])\n",
    "coefficients.sort_values(by='coeff').head()"
   ]
  },
  {
   "cell_type": "code",
   "execution_count": null,
   "id": "1e985cb6-f5d7-4a15-bc0d-c10597b2b7e2",
   "metadata": {},
   "outputs": [],
   "source": [
    "# accuracy\n",
    "\n",
    "y_pred = model.predict(balanced_train_x)\n",
    "\n",
    "np.mean(y_pred == balanced_train_y)"
   ]
  },
  {
   "cell_type": "code",
   "execution_count": null,
   "id": "d66f7274-0b2a-495c-84c3-bfd7e2df65fa",
   "metadata": {},
   "outputs": [],
   "source": [
    "from sklearn.metrics import confusion_matrix"
   ]
  },
  {
   "cell_type": "code",
   "execution_count": null,
   "id": "dbffb9e2-b2bf-4051-8e1e-ec4036bab34a",
   "metadata": {},
   "outputs": [],
   "source": [
    "cm = confusion_matrix(balanced_train_y, y_pred)\n",
    "sns.heatmap(cm, annot=True, fmt = 'd', cmap = 'Blues', annot_kws = {'size': 16})\n",
    "plt.xlabel('Predicted')\n",
    "plt.ylabel('Actual');"
   ]
  },
  {
   "cell_type": "code",
   "execution_count": null,
   "id": "c42a8c53-0f08-4c28-894c-bbcb8ba0179a",
   "metadata": {},
   "outputs": [],
   "source": [
    "tp = np.sum((y_pred == 1) & (balanced_train_y == 1))\n",
    "tn = np.sum((y_pred == 0) & (balanced_train_y == 0))\n",
    "fp = np.sum((y_pred == 1) & (balanced_train_y == 0))\n",
    "fn = np.sum((y_pred == 0) & (balanced_train_y == 1))\n",
    "precision = tp / (tp + fp)\n",
    "recall = tp / (tp + fn)\n",
    "print(f'precision = {precision}')\n",
    "print(f'recall = {recall}')"
   ]
  },
  {
   "cell_type": "markdown",
   "id": "2148f190-5009-4995-9cb9-9c1352224626",
   "metadata": {},
   "source": [
    "### Test Results"
   ]
  },
  {
   "cell_type": "code",
   "execution_count": null,
   "id": "4b32b2f4-5be6-4e8c-9e3b-82ddcadd60fa",
   "metadata": {},
   "outputs": [],
   "source": [
    "y_pred = model.predict(test_x)\n",
    "np.mean(y_pred == test_y)"
   ]
  },
  {
   "cell_type": "code",
   "execution_count": null,
   "id": "a61dd9d7-5e6d-4826-bc90-4eccfdbe0015",
   "metadata": {},
   "outputs": [],
   "source": [
    "cm_test = confusion_matrix(test_y, y_pred)\n",
    "sns.heatmap(cm_test, annot=True, fmt = 'd', cmap = 'Blues', annot_kws = {'size': 16})\n",
    "plt.xlabel('Predicted')\n",
    "plt.ylabel('Actual');"
   ]
  },
  {
   "cell_type": "code",
   "execution_count": null,
   "id": "c9ec57ad-1fbc-4f87-aac2-289925f43e39",
   "metadata": {},
   "outputs": [],
   "source": [
    "tp = np.sum((y_pred == 1) & (test_y == 1))\n",
    "tn = np.sum((y_pred == 0) & (test_y == 0))\n",
    "fp = np.sum((y_pred == 1) & (test_y == 0))\n",
    "fn = np.sum((y_pred == 0) & (test_y == 1))\n",
    "precision = tp / (tp + fp)\n",
    "recall = tp / (tp + fn)\n",
    "print(f'precision = {precision}')\n",
    "print(f'recall = {recall}')"
   ]
  },
  {
   "cell_type": "markdown",
   "id": "e5a3d086-da93-4c3c-a112-ad7f4a9a27a1",
   "metadata": {},
   "source": [
    "Maximizing precision will minimize the number false positives, whereas maximizing the recall will minimize the number of false negatives."
   ]
  },
  {
   "cell_type": "markdown",
   "id": "68c3bee3-fb18-4c69-897f-e298bad8f018",
   "metadata": {
    "tags": []
   },
   "source": [
    "## *backup/extra code"
   ]
  },
  {
   "cell_type": "code",
   "execution_count": null,
   "id": "d91fa125-c570-4f2e-b623-b2a37b1398d2",
   "metadata": {},
   "outputs": [],
   "source": [
    "# # Finding the unique values for columns with categorical variables\n",
    "# unique_df = categorical_df.nunique().reset_index()\n",
    "# unique_df.columns = ['Column','Number of Unique Values']\n",
    "\n",
    "# # extract unique classes in each column\n",
    "# unique_df['Unique Values'] = unique_df['Column'].apply(lambda x: df[x].unique())\n",
    "# unique_df.sort_values(by='Number of Unique Values')"
   ]
  },
  {
   "cell_type": "code",
   "execution_count": null,
   "id": "48c1a479-2ec4-4da2-9aa5-50ef3703a1b0",
   "metadata": {
    "tags": []
   },
   "outputs": [],
   "source": [
    "#correlation matrix \n",
    "#corr = numerical_df.corr()\n",
    "#corr.style.background_gradient(cmap='coolwarm')\n",
    "#corr.style.background_gradient(cmap='coolwarm').set_precision(2)\n",
    "# plt.savefig('output/correlation_matrix.png') # not sure how to save this figure"
   ]
  },
  {
   "cell_type": "code",
   "execution_count": null,
   "id": "3163b707-b3ae-4976-a13a-4de590ca2d33",
   "metadata": {},
   "outputs": [],
   "source": [
    "# how target variable varies depending on contract type - does this make sense? \n",
    "\n",
    "# ax = sns.barplot(x=\"NAME_CONTRACT_TYPE\", y=\"TARGET\", data=df)\n",
    "# plt.title('Target Variable Count Based on Contract Type')\n",
    "# plt.savefig('output/target_contract_type_counts.png')"
   ]
  },
  {
   "cell_type": "code",
   "execution_count": null,
   "id": "8ca78af5-7a77-45cd-82ba-c97b207e317b",
   "metadata": {},
   "outputs": [],
   "source": [
    "# Gender balance\n",
    "\n",
    "# ax = sns.barplot(x=['M', 'F'], y=[sum(df['CODE_GENDER']=='M'), sum(df['CODE_GENDER']=='F')])\n",
    "# plt.title('Gender Counts')\n",
    "# plt.savefig('output/gender_counts.png')"
   ]
  },
  {
   "cell_type": "code",
   "execution_count": null,
   "id": "85318e9a-7485-4c6b-abd0-ce49251bb448",
   "metadata": {},
   "outputs": [],
   "source": [
    "# df['YEARS_BIRTH'] = -df['DAYS_BIRTH']/365.25\n",
    "# df['YEARS_BIRTH'] = np.floor(df['YEARS_BIRTH'].copy())\n",
    "\n",
    "# # plot the distribution of ages \n",
    "\n",
    "# sns.histplot(data=df, x=\"YEARS_BIRTH\")\n",
    "# plt.title('Distribution of Age')\n",
    "# plt.xlabel('Age in Years')\n",
    "# plt.ylabel('Freq')\n",
    "# plt.savefig('output/age_counts.png')"
   ]
  },
  {
   "cell_type": "code",
   "execution_count": null,
   "id": "ecb7ec47-466c-464e-9436-9c3d3a84796b",
   "metadata": {
    "tags": []
   },
   "outputs": [],
   "source": [
    "#for column in numerical_df.columns:\n",
    "#    plt.figure(figsize=(20,5))\n",
    "#    plt.subplot(121)\n",
    "#    sns.distplot(df[column])\n",
    "#    plt.title(column)\n",
    "#    # save figure"
   ]
  },
  {
   "cell_type": "code",
   "execution_count": null,
   "id": "60df3499-2723-4f96-a6f3-bc8659afe498",
   "metadata": {
    "tags": []
   },
   "outputs": [],
   "source": [
    "#for column in categorical_df.columns:\n",
    "#    plt.figure(figsize=(30,6))\n",
    "#    plt.subplot(121)\n",
    "#    sns.countplot(x=df[column],hue=df['TARGET'],data=df)\n",
    "#    plt.title(column)    \n",
    "#    plt.xticks(rotation=90)\n",
    "#    # save figures"
   ]
  },
  {
   "cell_type": "code",
   "execution_count": null,
   "id": "f7641a3d-4bc1-47ed-8b38-ee762edacc58",
   "metadata": {},
   "outputs": [],
   "source": []
  },
  {
   "cell_type": "code",
   "execution_count": null,
   "id": "61310f63-4902-4091-8940-c26a697f7349",
   "metadata": {},
   "outputs": [],
   "source": []
  },
  {
   "cell_type": "code",
   "execution_count": null,
   "id": "fc9a6037-8e45-4457-9356-38d6a4ff1b94",
   "metadata": {},
   "outputs": [],
   "source": []
  }
 ],
 "metadata": {
  "kernelspec": {
   "display_name": "Python 3 (ipykernel)",
   "language": "python",
   "name": "python3"
  },
  "language_info": {
   "codemirror_mode": {
    "name": "ipython",
    "version": 3
   },
   "file_extension": ".py",
   "mimetype": "text/x-python",
   "name": "python",
   "nbconvert_exporter": "python",
   "pygments_lexer": "ipython3",
   "version": "3.9.9"
  }
 },
 "nbformat": 4,
 "nbformat_minor": 5
}
