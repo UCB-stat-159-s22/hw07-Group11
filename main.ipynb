{
 "cells": [
  {
   "cell_type": "markdown",
   "id": "886b84ee-bc3a-48fa-bcb8-f7ac2b38eb74",
   "metadata": {},
   "source": [
    "# Credit Account Default Status and Characteristics"
   ]
  },
  {
   "cell_type": "markdown",
   "id": "faa43ef1-2203-40c2-98df-d01a4765e3ae",
   "metadata": {},
   "source": [
    "Data source: https://www.kaggle.com/datasets/mishra5001/credit-card?datasetId=263888&select=columns_description.csv"
   ]
  },
  {
   "cell_type": "markdown",
   "id": "d02dd418-26c3-4f89-bff8-acafacda4d42",
   "metadata": {},
   "source": [
    "Credit history matters a lot when individuals want to take out loans ... say more about this later"
   ]
  },
  {
   "cell_type": "code",
   "execution_count": 1,
   "id": "0155129b-5bed-438c-85ae-a8351f6a0c25",
   "metadata": {},
   "outputs": [],
   "source": [
    "import numpy as np\n",
    "import pandas as pd\n",
    "import matplotlib.pyplot as plt\n",
    "import seaborn as sns\n",
    "import statsmodels as sm\n",
    "import warnings\n",
    "warnings.filterwarnings(\"ignore\")"
   ]
  },
  {
   "cell_type": "code",
   "execution_count": 2,
   "id": "b48efd42-7833-4bbf-be48-a6959e7824b8",
   "metadata": {},
   "outputs": [],
   "source": [
    "original_df = pd.read_csv('data/application_data.csv')"
   ]
  },
  {
   "cell_type": "code",
   "execution_count": 3,
   "id": "d18dcb1c-edbd-4caf-83db-8f423ccc6177",
   "metadata": {},
   "outputs": [
    {
     "data": {
      "text/html": [
       "<div>\n",
       "<style scoped>\n",
       "    .dataframe tbody tr th:only-of-type {\n",
       "        vertical-align: middle;\n",
       "    }\n",
       "\n",
       "    .dataframe tbody tr th {\n",
       "        vertical-align: top;\n",
       "    }\n",
       "\n",
       "    .dataframe thead th {\n",
       "        text-align: right;\n",
       "    }\n",
       "</style>\n",
       "<table border=\"1\" class=\"dataframe\">\n",
       "  <thead>\n",
       "    <tr style=\"text-align: right;\">\n",
       "      <th></th>\n",
       "      <th>SK_ID_CURR</th>\n",
       "      <th>TARGET</th>\n",
       "      <th>NAME_CONTRACT_TYPE</th>\n",
       "      <th>CODE_GENDER</th>\n",
       "      <th>FLAG_OWN_CAR</th>\n",
       "      <th>FLAG_OWN_REALTY</th>\n",
       "      <th>CNT_CHILDREN</th>\n",
       "      <th>AMT_INCOME_TOTAL</th>\n",
       "      <th>AMT_CREDIT</th>\n",
       "      <th>AMT_ANNUITY</th>\n",
       "      <th>...</th>\n",
       "      <th>FLAG_DOCUMENT_18</th>\n",
       "      <th>FLAG_DOCUMENT_19</th>\n",
       "      <th>FLAG_DOCUMENT_20</th>\n",
       "      <th>FLAG_DOCUMENT_21</th>\n",
       "      <th>AMT_REQ_CREDIT_BUREAU_HOUR</th>\n",
       "      <th>AMT_REQ_CREDIT_BUREAU_DAY</th>\n",
       "      <th>AMT_REQ_CREDIT_BUREAU_WEEK</th>\n",
       "      <th>AMT_REQ_CREDIT_BUREAU_MON</th>\n",
       "      <th>AMT_REQ_CREDIT_BUREAU_QRT</th>\n",
       "      <th>AMT_REQ_CREDIT_BUREAU_YEAR</th>\n",
       "    </tr>\n",
       "  </thead>\n",
       "  <tbody>\n",
       "    <tr>\n",
       "      <th>0</th>\n",
       "      <td>100002</td>\n",
       "      <td>1</td>\n",
       "      <td>Cash loans</td>\n",
       "      <td>M</td>\n",
       "      <td>N</td>\n",
       "      <td>Y</td>\n",
       "      <td>0</td>\n",
       "      <td>202500.0</td>\n",
       "      <td>406597.5</td>\n",
       "      <td>24700.5</td>\n",
       "      <td>...</td>\n",
       "      <td>0</td>\n",
       "      <td>0</td>\n",
       "      <td>0</td>\n",
       "      <td>0</td>\n",
       "      <td>0.0</td>\n",
       "      <td>0.0</td>\n",
       "      <td>0.0</td>\n",
       "      <td>0.0</td>\n",
       "      <td>0.0</td>\n",
       "      <td>1.0</td>\n",
       "    </tr>\n",
       "    <tr>\n",
       "      <th>1</th>\n",
       "      <td>100003</td>\n",
       "      <td>0</td>\n",
       "      <td>Cash loans</td>\n",
       "      <td>F</td>\n",
       "      <td>N</td>\n",
       "      <td>N</td>\n",
       "      <td>0</td>\n",
       "      <td>270000.0</td>\n",
       "      <td>1293502.5</td>\n",
       "      <td>35698.5</td>\n",
       "      <td>...</td>\n",
       "      <td>0</td>\n",
       "      <td>0</td>\n",
       "      <td>0</td>\n",
       "      <td>0</td>\n",
       "      <td>0.0</td>\n",
       "      <td>0.0</td>\n",
       "      <td>0.0</td>\n",
       "      <td>0.0</td>\n",
       "      <td>0.0</td>\n",
       "      <td>0.0</td>\n",
       "    </tr>\n",
       "    <tr>\n",
       "      <th>2</th>\n",
       "      <td>100004</td>\n",
       "      <td>0</td>\n",
       "      <td>Revolving loans</td>\n",
       "      <td>M</td>\n",
       "      <td>Y</td>\n",
       "      <td>Y</td>\n",
       "      <td>0</td>\n",
       "      <td>67500.0</td>\n",
       "      <td>135000.0</td>\n",
       "      <td>6750.0</td>\n",
       "      <td>...</td>\n",
       "      <td>0</td>\n",
       "      <td>0</td>\n",
       "      <td>0</td>\n",
       "      <td>0</td>\n",
       "      <td>0.0</td>\n",
       "      <td>0.0</td>\n",
       "      <td>0.0</td>\n",
       "      <td>0.0</td>\n",
       "      <td>0.0</td>\n",
       "      <td>0.0</td>\n",
       "    </tr>\n",
       "    <tr>\n",
       "      <th>3</th>\n",
       "      <td>100006</td>\n",
       "      <td>0</td>\n",
       "      <td>Cash loans</td>\n",
       "      <td>F</td>\n",
       "      <td>N</td>\n",
       "      <td>Y</td>\n",
       "      <td>0</td>\n",
       "      <td>135000.0</td>\n",
       "      <td>312682.5</td>\n",
       "      <td>29686.5</td>\n",
       "      <td>...</td>\n",
       "      <td>0</td>\n",
       "      <td>0</td>\n",
       "      <td>0</td>\n",
       "      <td>0</td>\n",
       "      <td>NaN</td>\n",
       "      <td>NaN</td>\n",
       "      <td>NaN</td>\n",
       "      <td>NaN</td>\n",
       "      <td>NaN</td>\n",
       "      <td>NaN</td>\n",
       "    </tr>\n",
       "    <tr>\n",
       "      <th>4</th>\n",
       "      <td>100007</td>\n",
       "      <td>0</td>\n",
       "      <td>Cash loans</td>\n",
       "      <td>M</td>\n",
       "      <td>N</td>\n",
       "      <td>Y</td>\n",
       "      <td>0</td>\n",
       "      <td>121500.0</td>\n",
       "      <td>513000.0</td>\n",
       "      <td>21865.5</td>\n",
       "      <td>...</td>\n",
       "      <td>0</td>\n",
       "      <td>0</td>\n",
       "      <td>0</td>\n",
       "      <td>0</td>\n",
       "      <td>0.0</td>\n",
       "      <td>0.0</td>\n",
       "      <td>0.0</td>\n",
       "      <td>0.0</td>\n",
       "      <td>0.0</td>\n",
       "      <td>0.0</td>\n",
       "    </tr>\n",
       "  </tbody>\n",
       "</table>\n",
       "<p>5 rows × 122 columns</p>\n",
       "</div>"
      ],
      "text/plain": [
       "   SK_ID_CURR  TARGET NAME_CONTRACT_TYPE CODE_GENDER FLAG_OWN_CAR  \\\n",
       "0      100002       1         Cash loans           M            N   \n",
       "1      100003       0         Cash loans           F            N   \n",
       "2      100004       0    Revolving loans           M            Y   \n",
       "3      100006       0         Cash loans           F            N   \n",
       "4      100007       0         Cash loans           M            N   \n",
       "\n",
       "  FLAG_OWN_REALTY  CNT_CHILDREN  AMT_INCOME_TOTAL  AMT_CREDIT  AMT_ANNUITY  \\\n",
       "0               Y             0          202500.0    406597.5      24700.5   \n",
       "1               N             0          270000.0   1293502.5      35698.5   \n",
       "2               Y             0           67500.0    135000.0       6750.0   \n",
       "3               Y             0          135000.0    312682.5      29686.5   \n",
       "4               Y             0          121500.0    513000.0      21865.5   \n",
       "\n",
       "   ...  FLAG_DOCUMENT_18 FLAG_DOCUMENT_19 FLAG_DOCUMENT_20 FLAG_DOCUMENT_21  \\\n",
       "0  ...                 0                0                0                0   \n",
       "1  ...                 0                0                0                0   \n",
       "2  ...                 0                0                0                0   \n",
       "3  ...                 0                0                0                0   \n",
       "4  ...                 0                0                0                0   \n",
       "\n",
       "  AMT_REQ_CREDIT_BUREAU_HOUR AMT_REQ_CREDIT_BUREAU_DAY  \\\n",
       "0                        0.0                       0.0   \n",
       "1                        0.0                       0.0   \n",
       "2                        0.0                       0.0   \n",
       "3                        NaN                       NaN   \n",
       "4                        0.0                       0.0   \n",
       "\n",
       "   AMT_REQ_CREDIT_BUREAU_WEEK  AMT_REQ_CREDIT_BUREAU_MON  \\\n",
       "0                         0.0                        0.0   \n",
       "1                         0.0                        0.0   \n",
       "2                         0.0                        0.0   \n",
       "3                         NaN                        NaN   \n",
       "4                         0.0                        0.0   \n",
       "\n",
       "   AMT_REQ_CREDIT_BUREAU_QRT  AMT_REQ_CREDIT_BUREAU_YEAR  \n",
       "0                        0.0                         1.0  \n",
       "1                        0.0                         0.0  \n",
       "2                        0.0                         0.0  \n",
       "3                        NaN                         NaN  \n",
       "4                        0.0                         0.0  \n",
       "\n",
       "[5 rows x 122 columns]"
      ]
     },
     "execution_count": 3,
     "metadata": {},
     "output_type": "execute_result"
    }
   ],
   "source": [
    "original_df.head()"
   ]
  },
  {
   "cell_type": "markdown",
   "id": "d808ed66-9b1f-4204-9ee7-8e8e973e51c5",
   "metadata": {},
   "source": [
    "## Data Cleaning"
   ]
  },
  {
   "cell_type": "code",
   "execution_count": 4,
   "id": "f4d0240b-c652-4031-a241-8dcf0881c643",
   "metadata": {},
   "outputs": [
    {
     "data": {
      "text/plain": [
       "Index(['COMMONAREA_MEDI', 'COMMONAREA_AVG', 'COMMONAREA_MODE',\n",
       "       'NONLIVINGAPARTMENTS_MODE', 'NONLIVINGAPARTMENTS_AVG',\n",
       "       'NONLIVINGAPARTMENTS_MEDI', 'FONDKAPREMONT_MODE',\n",
       "       'LIVINGAPARTMENTS_MODE', 'LIVINGAPARTMENTS_AVG',\n",
       "       'LIVINGAPARTMENTS_MEDI', 'FLOORSMIN_AVG', 'FLOORSMIN_MODE',\n",
       "       'FLOORSMIN_MEDI', 'YEARS_BUILD_MEDI', 'YEARS_BUILD_MODE',\n",
       "       'YEARS_BUILD_AVG', 'OWN_CAR_AGE', 'LANDAREA_MEDI', 'LANDAREA_MODE',\n",
       "       'LANDAREA_AVG', 'BASEMENTAREA_MEDI', 'BASEMENTAREA_AVG',\n",
       "       'BASEMENTAREA_MODE', 'EXT_SOURCE_1', 'NONLIVINGAREA_MODE',\n",
       "       'NONLIVINGAREA_AVG', 'NONLIVINGAREA_MEDI', 'ELEVATORS_MEDI',\n",
       "       'ELEVATORS_AVG', 'ELEVATORS_MODE', 'WALLSMATERIAL_MODE',\n",
       "       'APARTMENTS_MEDI', 'APARTMENTS_AVG', 'APARTMENTS_MODE',\n",
       "       'ENTRANCES_MEDI', 'ENTRANCES_AVG', 'ENTRANCES_MODE', 'LIVINGAREA_AVG',\n",
       "       'LIVINGAREA_MODE', 'LIVINGAREA_MEDI', 'HOUSETYPE_MODE'],\n",
       "      dtype='object')"
      ]
     },
     "execution_count": 4,
     "metadata": {},
     "output_type": "execute_result"
    }
   ],
   "source": [
    "sorted_null = original_df.isnull().mean().sort_values(ascending=False)\n",
    "sorted_null.index[(sorted_null>0.5)]"
   ]
  },
  {
   "cell_type": "markdown",
   "id": "0f8ecf07-8d3f-4440-a070-da0fe2c28a1b",
   "metadata": {},
   "source": [
    "We observe that all the above columns contains more than X%(50% in our case) of nulls values, and here we make one of our major assumptions in this EDA that these data are simply unknown and can introduce bias which can affect our analysis(as opposed to them being actually informative and shows something in our data). Future work might involve taking a deeper look into these columns, but for now with this assumption in mind, we will drop these columns together with some additional columns like ID number, which we expect to be not useful in our analysis:"
   ]
  },
  {
   "cell_type": "code",
   "execution_count": 5,
   "id": "3ac6bce9-2b49-45c9-91e4-2c168a800fb2",
   "metadata": {},
   "outputs": [
    {
     "data": {
      "text/plain": [
       "Index(['FLOORSMAX_MODE', 'FLOORSMAX_MEDI', 'FLOORSMAX_AVG',\n",
       "       'YEARS_BEGINEXPLUATATION_MODE', 'YEARS_BEGINEXPLUATATION_MEDI',\n",
       "       'YEARS_BEGINEXPLUATATION_AVG', 'TOTALAREA_MODE', 'EMERGENCYSTATE_MODE',\n",
       "       'OCCUPATION_TYPE', 'EXT_SOURCE_3', 'AMT_REQ_CREDIT_BUREAU_HOUR',\n",
       "       'AMT_REQ_CREDIT_BUREAU_DAY', 'AMT_REQ_CREDIT_BUREAU_WEEK',\n",
       "       'AMT_REQ_CREDIT_BUREAU_MON', 'AMT_REQ_CREDIT_BUREAU_QRT',\n",
       "       'AMT_REQ_CREDIT_BUREAU_YEAR', 'NAME_TYPE_SUITE',\n",
       "       'OBS_30_CNT_SOCIAL_CIRCLE', 'DEF_30_CNT_SOCIAL_CIRCLE',\n",
       "       'OBS_60_CNT_SOCIAL_CIRCLE', 'DEF_60_CNT_SOCIAL_CIRCLE', 'EXT_SOURCE_2',\n",
       "       'AMT_GOODS_PRICE', 'AMT_ANNUITY', 'CNT_FAM_MEMBERS',\n",
       "       'DAYS_LAST_PHONE_CHANGE', 'CNT_CHILDREN', 'FLAG_DOCUMENT_8',\n",
       "       'NAME_CONTRACT_TYPE', 'CODE_GENDER', 'FLAG_OWN_CAR', 'FLAG_DOCUMENT_2',\n",
       "       'FLAG_DOCUMENT_3', 'FLAG_DOCUMENT_4', 'FLAG_DOCUMENT_5',\n",
       "       'FLAG_DOCUMENT_6', 'FLAG_DOCUMENT_7', 'FLAG_DOCUMENT_9',\n",
       "       'FLAG_DOCUMENT_21', 'FLAG_DOCUMENT_10', 'FLAG_DOCUMENT_11',\n",
       "       'FLAG_OWN_REALTY', 'FLAG_DOCUMENT_13', 'FLAG_DOCUMENT_14',\n",
       "       'FLAG_DOCUMENT_15', 'FLAG_DOCUMENT_16', 'FLAG_DOCUMENT_17',\n",
       "       'FLAG_DOCUMENT_18', 'FLAG_DOCUMENT_19', 'FLAG_DOCUMENT_20',\n",
       "       'FLAG_DOCUMENT_12', 'AMT_CREDIT', 'AMT_INCOME_TOTAL', 'FLAG_PHONE',\n",
       "       'LIVE_CITY_NOT_WORK_CITY', 'REG_CITY_NOT_WORK_CITY', 'TARGET',\n",
       "       'REG_CITY_NOT_LIVE_CITY', 'LIVE_REGION_NOT_WORK_REGION',\n",
       "       'REG_REGION_NOT_WORK_REGION', 'REG_REGION_NOT_LIVE_REGION',\n",
       "       'HOUR_APPR_PROCESS_START', 'WEEKDAY_APPR_PROCESS_START',\n",
       "       'REGION_RATING_CLIENT_W_CITY', 'REGION_RATING_CLIENT', 'FLAG_EMAIL',\n",
       "       'FLAG_CONT_MOBILE', 'ORGANIZATION_TYPE', 'FLAG_WORK_PHONE',\n",
       "       'FLAG_EMP_PHONE', 'FLAG_MOBIL', 'DAYS_ID_PUBLISH', 'DAYS_REGISTRATION',\n",
       "       'DAYS_EMPLOYED', 'DAYS_BIRTH', 'REGION_POPULATION_RELATIVE',\n",
       "       'NAME_HOUSING_TYPE', 'NAME_FAMILY_STATUS', 'NAME_EDUCATION_TYPE',\n",
       "       'NAME_INCOME_TYPE'],\n",
       "      dtype='object')"
      ]
     },
     "execution_count": 5,
     "metadata": {},
     "output_type": "execute_result"
    }
   ],
   "source": [
    "# drop columns with more then 50% missing values + additional ones decided by the group\n",
    "drop_col = ['SK_ID_CURR',]\n",
    "df = original_df[sorted_null.index[(sorted_null<0.5)]].drop(drop_col, axis=1)\n",
    "df.columns"
   ]
  },
  {
   "cell_type": "markdown",
   "id": "cac82fcd-4419-4a92-90a8-51dc036eeff4",
   "metadata": {},
   "source": [
    "## EDA"
   ]
  },
  {
   "cell_type": "markdown",
   "id": "fbe9c82f-84d6-4558-8176-1424f3c7804a",
   "metadata": {},
   "source": [
    "In the following parts of our analysis, we will identify some interesting findings in our data and attempt to build a logistic regression model to predict whether a customer will default or not. But for now, let us explore the different variables in our datasets.\n",
    "\n",
    "First, we look at the general picture of what is the proportion of people using credit cards who are able to pay on time vs those who failed to pay on time"
   ]
  },
  {
   "cell_type": "code",
   "execution_count": 8,
   "id": "f382df31-867b-4f3c-85b3-74ea0801a199",
   "metadata": {},
   "outputs": [
    {
     "name": "stdout",
     "output_type": "stream",
     "text": [
      "proportion of people who paid on time: 0.9192711805431351\n",
      "proportion of people who failed to pay on time: 0.08072881945686496\n"
     ]
    }
   ],
   "source": [
    "print(\"proportion of people who paid on time:\", 1-df[\"TARGET\"].mean())\n",
    "print(\"proportion of people who failed to pay on time:\", df[\"TARGET\"].mean())"
   ]
  },
  {
   "cell_type": "code",
   "execution_count": 17,
   "id": "33bb8d78-2e39-48d9-8c33-58df7f835b4e",
   "metadata": {},
   "outputs": [
    {
     "data": {
      "image/png": "[encoded data removed]",
      "text/plain": [
       "<Figure size 432x288 with 1 Axes>"
      ]
     },
     "metadata": {
      "needs_background": "light"
     },
     "output_type": "display_data"
    }
   ],
   "source": [
    "sns.barplot(x=\"TARGET\", y=\"TARGET\", data=df, estimator=lambda x: len(x) / len(df) * 100)\n",
    "plt.xlabel(\"Default\")\n",
    "plt.ylabel(\"% of customers\")\n",
    "plt.title(\"Distribution of TARGET Variable(0 for non-default, 1 for default)\")\n",
    "plt.show()"
   ]
  },
  {
   "cell_type": "markdown",
   "id": "7d3070c9-ce7b-46f5-89ed-cff5efd30b11",
   "metadata": {},
   "source": [
    "Notice that there the original data has a high class imbalance, so we might want to bear this in mind when considering the metrics to look at when evaluating classifiers later."
   ]
  },
  {
   "cell_type": "code",
   "execution_count": null,
   "id": "d8d3a234-3f2b-41ad-9ee1-e7e2215732aa",
   "metadata": {},
   "outputs": [],
   "source": []
  },
  {
   "cell_type": "code",
   "execution_count": null,
   "id": "dcd0ab03-f9b3-42c7-87af-29a815019e8c",
   "metadata": {},
   "outputs": [],
   "source": []
  },
  {
   "cell_type": "code",
   "execution_count": null,
   "id": "d9001489-3370-4715-a38a-bfa32baecb06",
   "metadata": {},
   "outputs": [],
   "source": []
  },
  {
   "cell_type": "code",
   "execution_count": null,
   "id": "4fcf41f1-b8a1-4ae7-bc7f-a2dc23fff06b",
   "metadata": {},
   "outputs": [],
   "source": []
  },
  {
   "cell_type": "code",
   "execution_count": null,
   "id": "499c370e-bca2-4983-9f69-c789e13aac2d",
   "metadata": {},
   "outputs": [],
   "source": []
  },
  {
   "cell_type": "markdown",
   "id": "68c3bee3-fb18-4c69-897f-e298bad8f018",
   "metadata": {},
   "source": [
    "## backup code"
   ]
  },
  {
   "cell_type": "code",
   "execution_count": 25,
   "id": "bce44b8d-7bd2-498f-b6e8-af9269282815",
   "metadata": {},
   "outputs": [],
   "source": [
    "# separating df into categorical and numerical to help with further analysis\n",
    "\n",
    "# categorical dataframe\n",
    "\n",
    "categorical_df = df.select_dtypes(exclude=np.number)\n",
    "\n",
    "# numerical dataframe\n",
    "\n",
    "numerical_df = df.select_dtypes(include=np.number)"
   ]
  },
  {
   "cell_type": "code",
   "execution_count": 56,
   "id": "d91fa125-c570-4f2e-b623-b2a37b1398d2",
   "metadata": {},
   "outputs": [
    {
     "data": {
      "text/html": [
       "<div>\n",
       "<style scoped>\n",
       "    .dataframe tbody tr th:only-of-type {\n",
       "        vertical-align: middle;\n",
       "    }\n",
       "\n",
       "    .dataframe tbody tr th {\n",
       "        vertical-align: top;\n",
       "    }\n",
       "\n",
       "    .dataframe thead th {\n",
       "        text-align: right;\n",
       "    }\n",
       "</style>\n",
       "<table border=\"1\" class=\"dataframe\">\n",
       "  <thead>\n",
       "    <tr style=\"text-align: right;\">\n",
       "      <th></th>\n",
       "      <th>Column</th>\n",
       "      <th>Number of Unique Values</th>\n",
       "      <th>Unique Values</th>\n",
       "    </tr>\n",
       "  </thead>\n",
       "  <tbody>\n",
       "    <tr>\n",
       "      <th>0</th>\n",
       "      <td>EMERGENCYSTATE_MODE</td>\n",
       "      <td>2</td>\n",
       "      <td>[No, nan, Yes]</td>\n",
       "    </tr>\n",
       "    <tr>\n",
       "      <th>9</th>\n",
       "      <td>NAME_CONTRACT_TYPE</td>\n",
       "      <td>2</td>\n",
       "      <td>[Cash loans, Revolving loans]</td>\n",
       "    </tr>\n",
       "    <tr>\n",
       "      <th>11</th>\n",
       "      <td>FLAG_OWN_CAR</td>\n",
       "      <td>2</td>\n",
       "      <td>[N, Y]</td>\n",
       "    </tr>\n",
       "    <tr>\n",
       "      <th>12</th>\n",
       "      <td>FLAG_OWN_REALTY</td>\n",
       "      <td>2</td>\n",
       "      <td>[Y, N]</td>\n",
       "    </tr>\n",
       "    <tr>\n",
       "      <th>10</th>\n",
       "      <td>CODE_GENDER</td>\n",
       "      <td>3</td>\n",
       "      <td>[M, F, XNA]</td>\n",
       "    </tr>\n",
       "    <tr>\n",
       "      <th>8</th>\n",
       "      <td>NAME_EDUCATION_TYPE</td>\n",
       "      <td>5</td>\n",
       "      <td>[Secondary / secondary special, Higher educati...</td>\n",
       "    </tr>\n",
       "    <tr>\n",
       "      <th>6</th>\n",
       "      <td>NAME_HOUSING_TYPE</td>\n",
       "      <td>6</td>\n",
       "      <td>[House / apartment, Rented apartment, With par...</td>\n",
       "    </tr>\n",
       "    <tr>\n",
       "      <th>7</th>\n",
       "      <td>NAME_FAMILY_STATUS</td>\n",
       "      <td>6</td>\n",
       "      <td>[Single / not married, Married, Civil marriage...</td>\n",
       "    </tr>\n",
       "    <tr>\n",
       "      <th>2</th>\n",
       "      <td>NAME_TYPE_SUITE</td>\n",
       "      <td>7</td>\n",
       "      <td>[Unaccompanied, Family, Spouse, partner, Child...</td>\n",
       "    </tr>\n",
       "    <tr>\n",
       "      <th>3</th>\n",
       "      <td>WEEKDAY_APPR_PROCESS_START</td>\n",
       "      <td>7</td>\n",
       "      <td>[WEDNESDAY, MONDAY, THURSDAY, SUNDAY, SATURDAY...</td>\n",
       "    </tr>\n",
       "    <tr>\n",
       "      <th>4</th>\n",
       "      <td>NAME_INCOME_TYPE</td>\n",
       "      <td>8</td>\n",
       "      <td>[Working, State servant, Commercial associate,...</td>\n",
       "    </tr>\n",
       "    <tr>\n",
       "      <th>1</th>\n",
       "      <td>OCCUPATION_TYPE</td>\n",
       "      <td>18</td>\n",
       "      <td>[Laborers, Core staff, Accountants, Managers, ...</td>\n",
       "    </tr>\n",
       "    <tr>\n",
       "      <th>5</th>\n",
       "      <td>ORGANIZATION_TYPE</td>\n",
       "      <td>58</td>\n",
       "      <td>[Business Entity Type 3, School, Government, R...</td>\n",
       "    </tr>\n",
       "  </tbody>\n",
       "</table>\n",
       "</div>"
      ],
      "text/plain": [
       "                        Column  Number of Unique Values  \\\n",
       "0          EMERGENCYSTATE_MODE                        2   \n",
       "9           NAME_CONTRACT_TYPE                        2   \n",
       "11                FLAG_OWN_CAR                        2   \n",
       "12             FLAG_OWN_REALTY                        2   \n",
       "10                 CODE_GENDER                        3   \n",
       "8          NAME_EDUCATION_TYPE                        5   \n",
       "6            NAME_HOUSING_TYPE                        6   \n",
       "7           NAME_FAMILY_STATUS                        6   \n",
       "2              NAME_TYPE_SUITE                        7   \n",
       "3   WEEKDAY_APPR_PROCESS_START                        7   \n",
       "4             NAME_INCOME_TYPE                        8   \n",
       "1              OCCUPATION_TYPE                       18   \n",
       "5            ORGANIZATION_TYPE                       58   \n",
       "\n",
       "                                        Unique Values  \n",
       "0                                      [No, nan, Yes]  \n",
       "9                       [Cash loans, Revolving loans]  \n",
       "11                                             [N, Y]  \n",
       "12                                             [Y, N]  \n",
       "10                                        [M, F, XNA]  \n",
       "8   [Secondary / secondary special, Higher educati...  \n",
       "6   [House / apartment, Rented apartment, With par...  \n",
       "7   [Single / not married, Married, Civil marriage...  \n",
       "2   [Unaccompanied, Family, Spouse, partner, Child...  \n",
       "3   [WEDNESDAY, MONDAY, THURSDAY, SUNDAY, SATURDAY...  \n",
       "4   [Working, State servant, Commercial associate,...  \n",
       "1   [Laborers, Core staff, Accountants, Managers, ...  \n",
       "5   [Business Entity Type 3, School, Government, R...  "
      ]
     },
     "execution_count": 56,
     "metadata": {},
     "output_type": "execute_result"
    }
   ],
   "source": [
    "# Finding the unique values for columns with categorical variables\n",
    "unique_df = categorical_df.nunique().reset_index()\n",
    "unique_df.columns = ['Column','Number of Unique Values']\n",
    "\n",
    "# extract unique classes in each column\n",
    "unique_df['Unique Values'] = unique_df['Column'].apply(lambda x: df[x].unique())\n",
    "unique_df.sort_values(by='Number of Unique Values')"
   ]
  },
  {
   "cell_type": "code",
   "execution_count": 57,
   "id": "02a26570-4e49-41db-b862-062a0c831f03",
   "metadata": {
    "tags": []
   },
   "outputs": [
    {
     "data": {
      "image/png": "[encoded data removed]",
      "text/plain": [
       "<Figure size 432x288 with 1 Axes>"
      ]
     },
     "metadata": {
      "needs_background": "light"
     },
     "output_type": "display_data"
    }
   ],
   "source": [
    "# visualizing TARGET counts\n",
    "df['TARGET'].value_counts().plot(kind='bar');\n",
    "plt.title('Target Classes Counts')\n",
    "plt.xlabel('Target')\n",
    "plt.ylabel('Count')\n",
    "plt.savefig('output/target_counts.png')"
   ]
  },
  {
   "cell_type": "code",
   "execution_count": 41,
   "id": "48c1a479-2ec4-4da2-9aa5-50ef3703a1b0",
   "metadata": {
    "tags": []
   },
   "outputs": [],
   "source": [
    "#correlation matrix \n",
    "#corr = numerical_df.corr()\n",
    "#corr.style.background_gradient(cmap='coolwarm')\n",
    "#corr.style.background_gradient(cmap='coolwarm').set_precision(2)\n",
    "# plt.savefig('output/correlation_matrix.png') # not sure how to save this figure"
   ]
  },
  {
   "cell_type": "code",
   "execution_count": 59,
   "id": "33864843-35d4-495f-ad78-b821421c757c",
   "metadata": {},
   "outputs": [
    {
     "data": {
      "image/png": "[encoded data removed]",
      "text/plain": [
       "<Figure size 432x288 with 1 Axes>"
      ]
     },
     "metadata": {
      "needs_background": "light"
     },
     "output_type": "display_data"
    }
   ],
   "source": [
    "# count of cash loans vs revolving loans\n",
    "# Revolving credit allows a borrower to spend the money they have borrowed, repay it, \n",
    "# and borrow again as needed\n",
    "\n",
    "ax = sns.barplot(x=['Cash loans', 'Revolving loans'], y=[sum(df['NAME_CONTRACT_TYPE']=='Cash loans'), sum(df['NAME_CONTRACT_TYPE']=='Revolving loans')])\n",
    "plt.title('Contract Type Counts')\n",
    "plt.savefig('output/name_contract_type_counts.png')"
   ]
  },
  {
   "cell_type": "code",
   "execution_count": 53,
   "id": "3163b707-b3ae-4976-a13a-4de590ca2d33",
   "metadata": {},
   "outputs": [
    {
     "data": {
      "image/png": "[encoded data removed]",
      "text/plain": [
       "<Figure size 432x288 with 1 Axes>"
      ]
     },
     "metadata": {
      "needs_background": "light"
     },
     "output_type": "display_data"
    }
   ],
   "source": [
    "# how target variable varies depending on contract type - does this make sense? \n",
    "\n",
    "ax = sns.barplot(x=\"NAME_CONTRACT_TYPE\", y=\"TARGET\", data=df)\n",
    "plt.title('Target Variable Count Based on Contract Type')\n",
    "plt.savefig('output/target_contract_type_counts.png')"
   ]
  },
  {
   "cell_type": "code",
   "execution_count": 12,
   "id": "8ca78af5-7a77-45cd-82ba-c97b207e317b",
   "metadata": {},
   "outputs": [
    {
     "data": {
      "image/png": "[encoded data removed]",
      "text/plain": [
       "<Figure size 432x288 with 1 Axes>"
      ]
     },
     "metadata": {
      "needs_background": "light"
     },
     "output_type": "display_data"
    }
   ],
   "source": [
    "# Gender balance\n",
    "\n",
    "ax = sns.barplot(x=['M', 'F'], y=[sum(df['CODE_GENDER']=='M'), sum(df['CODE_GENDER']=='F')])\n",
    "plt.title('Gender Counts')\n",
    "plt.savefig('output/gender_counts.png')"
   ]
  },
  {
   "cell_type": "code",
   "execution_count": 13,
   "id": "85318e9a-7485-4c6b-abd0-ce49251bb448",
   "metadata": {},
   "outputs": [
    {
     "data": {
      "image/png": "[encoded data removed]",
      "text/plain": [
       "<Figure size 432x288 with 1 Axes>"
      ]
     },
     "metadata": {
      "needs_background": "light"
     },
     "output_type": "display_data"
    }
   ],
   "source": [
    "df['YEARS_BIRTH'] = -df['DAYS_BIRTH']/365.25\n",
    "\n",
    "# plot the distribution of ages \n",
    "\n",
    "sns.histplot(data=df, x=\"YEARS_BIRTH\")\n",
    "plt.title('Distribution of Age')\n",
    "plt.xlabel('Age in Years')\n",
    "plt.ylabel('Freq')\n",
    "plt.savefig('output/age_counts.png')"
   ]
  },
  {
   "cell_type": "code",
   "execution_count": 39,
   "id": "ecb7ec47-466c-464e-9436-9c3d3a84796b",
   "metadata": {
    "tags": []
   },
   "outputs": [],
   "source": [
    "#for column in numerical_df.columns:\n",
    "#    plt.figure(figsize=(20,5))\n",
    "#    plt.subplot(121)\n",
    "#    sns.distplot(df[column])\n",
    "#    plt.title(column)\n",
    "#    # save figure"
   ]
  },
  {
   "cell_type": "code",
   "execution_count": 40,
   "id": "60df3499-2723-4f96-a6f3-bc8659afe498",
   "metadata": {
    "tags": []
   },
   "outputs": [],
   "source": [
    "#for column in categorical_df.columns:\n",
    "#    plt.figure(figsize=(30,6))\n",
    "#    plt.subplot(121)\n",
    "#    sns.countplot(x=df[column],hue=df['TARGET'],data=df)\n",
    "#    plt.title(column)    \n",
    "#    plt.xticks(rotation=90)\n",
    "#    # save figures"
   ]
  },
  {
   "cell_type": "code",
   "execution_count": null,
   "id": "f7641a3d-4bc1-47ed-8b38-ee762edacc58",
   "metadata": {},
   "outputs": [],
   "source": []
  },
  {
   "cell_type": "code",
   "execution_count": null,
   "id": "61310f63-4902-4091-8940-c26a697f7349",
   "metadata": {},
   "outputs": [],
   "source": []
  },
  {
   "cell_type": "code",
   "execution_count": 16,
   "id": "766e566c-267d-4d20-bb04-7993b909c910",
   "metadata": {},
   "outputs": [],
   "source": [
    "# Observations"
   ]
  },
  {
   "cell_type": "code",
   "execution_count": null,
   "id": "fc9a6037-8e45-4457-9356-38d6a4ff1b94",
   "metadata": {},
   "outputs": [],
   "source": []
  }
 ],
 "metadata": {
  "kernelspec": {
   "display_name": "Python 3 (ipykernel)",
   "language": "python",
   "name": "python3"
  },
  "language_info": {
   "codemirror_mode": {
    "name": "ipython",
    "version": 3
   },
   "file_extension": ".py",
   "mimetype": "text/x-python",
   "name": "python",
   "nbconvert_exporter": "python",
   "pygments_lexer": "ipython3",
   "version": "3.9.9"
  }
 },
 "nbformat": 4,
 "nbformat_minor": 5
}
